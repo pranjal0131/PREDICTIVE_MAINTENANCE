{
 "cells": [
  {
   "cell_type": "code",
   "execution_count": 46,
   "metadata": {},
   "outputs": [],
   "source": [
    "import keras\n",
    "import keras.backend as K\n",
    "from keras.layers.core import Activation\n",
    "from keras.models import Sequential,load_model\n",
    "from keras.layers import Dense, Dropout, LSTM\n",
    "from keras.callbacks import EarlyStopping, ModelCheckpoint\n",
    "import pandas as pd\n",
    "import numpy as np\n",
    "import matplotlib.pyplot as plt\n",
    "import os\n",
    "from sklearn import preprocessing"
   ]
  },
  {
   "cell_type": "code",
   "execution_count": 2,
   "metadata": {},
   "outputs": [],
   "source": [
    "# Setting seed for reproducibility\n",
    "np.random.seed(1234)  \n",
    "PYTHONHASHSEED = 0\n"
   ]
  },
  {
   "cell_type": "code",
   "execution_count": 214,
   "metadata": {},
   "outputs": [],
   "source": [
    "# read training data - It is the aircraft engine run-to-failure data.\n",
    "train_df = pd.read_csv('PM_train.txt', sep=\" \", header=None)\n",
    "train_df.drop(train_df.columns[[26, 27]], axis=1, inplace=True)\n",
    "train_df.columns = ['id', 'cycle', 'setting1', 'setting2', 'setting3', 's1', 's2', 's3',\n",
    "                     's4', 's5', 's6', 's7', 's8', 's9', 's10', 's11', 's12', 's13', 's14',\n",
    "                     's15', 's16', 's17', 's18', 's19', 's20', 's21']"
   ]
  },
  {
   "cell_type": "code",
   "execution_count": 215,
   "metadata": {},
   "outputs": [],
   "source": [
    "train_df = train_df.sort_values(['id','cycle'])"
   ]
  },
  {
   "cell_type": "code",
   "execution_count": 216,
   "metadata": {},
   "outputs": [],
   "source": [
    "# read test data - It is the aircraft engine operating data without failure events recorded.\n",
    "test_df = pd.read_csv('PM_test.txt', sep=\" \", header=None)\n",
    "test_df.drop(test_df.columns[[26, 27]], axis=1, inplace=True)\n",
    "test_df.columns = ['id', 'cycle', 'setting1', 'setting2', 'setting3', 's1', 's2', 's3',\n",
    "                     's4', 's5', 's6', 's7', 's8', 's9', 's10', 's11', 's12', 's13', 's14',\n",
    "                     's15', 's16', 's17', 's18', 's19', 's20', 's21']"
   ]
  },
  {
   "cell_type": "code",
   "execution_count": 217,
   "metadata": {},
   "outputs": [],
   "source": [
    "# read ground truth data - It contains the information of true remaining cycles for each engine in the testing data.\n",
    "truth_df = pd.read_csv('PM_truth.txt', sep=\" \", header=None)\n",
    "truth_df.drop(truth_df.columns[[1]], axis=1, inplace=True)"
   ]
  },
  {
   "cell_type": "code",
   "execution_count": 218,
   "metadata": {},
   "outputs": [],
   "source": [
    "# Data Labeling - generate column RUL(Remaining Usefull Life or Time to Failure)\n",
    "rul = pd.DataFrame(train_df.groupby('id')['cycle'].max()).reset_index()\n",
    "rul.columns = ['id', 'max']\n",
    "train_df = train_df.merge(rul, on=['id'], how='left')\n",
    "train_df['RUL'] = train_df['max'] - train_df['cycle']\n",
    "train_df.drop('max', axis=1, inplace=True)"
   ]
  },
  {
   "cell_type": "code",
   "execution_count": 219,
   "metadata": {},
   "outputs": [],
   "source": [
    "# generate label columns for training data\n",
    "# we will only make use of \"label1\" for binary classification, \n",
    "# while trying to answer the question: is a specific engine going to fail within w1 cycles?\n",
    "w1 = 30\n",
    "w0 = 15\n",
    "train_df['label1'] = np.where(train_df['RUL'] <= w1, 1, 0 )\n",
    "train_df['label2'] = train_df['label1']\n",
    "train_df.loc[train_df['RUL'] <= w0, 'label2'] = 2"
   ]
  },
  {
   "cell_type": "code",
   "execution_count": 220,
   "metadata": {},
   "outputs": [],
   "source": [
    "# MinMax normalization (from 0 to 1)\n",
    "train_df['cycle_norm'] = train_df['cycle']\n",
    "cols_normalize = train_df.columns.difference(['id','cycle','RUL','label1','label2'])\n",
    "min_max_scaler = preprocessing.MinMaxScaler()\n",
    "norm_train_df = pd.DataFrame(min_max_scaler.fit_transform(train_df[cols_normalize]), \n",
    "                             columns=cols_normalize, \n",
    "                             index=train_df.index)\n",
    "join_df = train_df[train_df.columns.difference(cols_normalize)].join(norm_train_df)\n",
    "train_df = join_df.reindex(columns = train_df.columns)"
   ]
  },
  {
   "cell_type": "code",
   "execution_count": 221,
   "metadata": {},
   "outputs": [
    {
     "name": "stdout",
     "output_type": "stream",
     "text": [
      "   id  cycle  setting1  setting2  setting3   s1        s2        s3        s4  \\\n",
      "0   1      1  0.632184  0.750000       0.0  0.0  0.545181  0.310661  0.269413   \n",
      "1   1      2  0.344828  0.250000       0.0  0.0  0.150602  0.379551  0.222316   \n",
      "2   1      3  0.517241  0.583333       0.0  0.0  0.376506  0.346632  0.322248   \n",
      "3   1      4  0.741379  0.500000       0.0  0.0  0.370482  0.285154  0.408001   \n",
      "4   1      5  0.580460  0.500000       0.0  0.0  0.391566  0.352082  0.332039   \n",
      "\n",
      "    s5  ...       s13       s14       s15  s16       s17  s18  s19       s20  \\\n",
      "0  0.0  ...  0.220588  0.132160  0.308965  0.0  0.333333  0.0  0.0  0.558140   \n",
      "1  0.0  ...  0.264706  0.204768  0.213159  0.0  0.416667  0.0  0.0  0.682171   \n",
      "2  0.0  ...  0.220588  0.155640  0.458638  0.0  0.416667  0.0  0.0  0.728682   \n",
      "3  0.0  ...  0.250000  0.170090  0.257022  0.0  0.250000  0.0  0.0  0.666667   \n",
      "4  0.0  ...  0.220588  0.152751  0.300885  0.0  0.166667  0.0  0.0  0.658915   \n",
      "\n",
      "        s21  cycle_norm  \n",
      "0  0.661834     0.00000  \n",
      "1  0.686827     0.00277  \n",
      "2  0.721348     0.00554  \n",
      "3  0.662110     0.00831  \n",
      "4  0.716377     0.01108  \n",
      "\n",
      "[5 rows x 27 columns]\n"
     ]
    }
   ],
   "source": [
    "# MinMax normalization (from 0 to 1)\n",
    "test_df['cycle_norm'] = test_df['cycle']\n",
    "norm_test_df = pd.DataFrame(min_max_scaler.transform(test_df[cols_normalize]), \n",
    "                            columns=cols_normalize, \n",
    "                            index=test_df.index)\n",
    "test_join_df = test_df[test_df.columns.difference(cols_normalize)].join(norm_test_df)\n",
    "test_df = test_join_df.reindex(columns = test_df.columns)\n",
    "test_df = test_df.reset_index(drop=True)\n",
    "print(test_df.head())"
   ]
  },
  {
   "cell_type": "code",
   "execution_count": 222,
   "metadata": {},
   "outputs": [
    {
     "data": {
      "text/plain": [
       "(13096, 27)"
      ]
     },
     "execution_count": 222,
     "metadata": {},
     "output_type": "execute_result"
    }
   ],
   "source": [
    "test_df.shape"
   ]
  },
  {
   "cell_type": "code",
   "execution_count": 223,
   "metadata": {},
   "outputs": [],
   "source": [
    "# We use the ground truth dataset to generate labels for the test data.\n",
    "# generate column max for test data\n",
    "rul = pd.DataFrame(test_df.groupby('id')['cycle'].max()).reset_index()\n",
    "rul.columns = ['id', 'max']\n",
    "truth_df.columns = ['more']\n",
    "truth_df['id'] = truth_df.index + 1\n",
    "truth_df['max'] = rul['max'] + truth_df['more']\n",
    "truth_df.drop('more', axis=1, inplace=True)"
   ]
  },
  {
   "cell_type": "code",
   "execution_count": 224,
   "metadata": {},
   "outputs": [],
   "source": [
    "# generate RUL for test data\n",
    "test_df = test_df.merge(truth_df, on=['id'], how='left')\n",
    "test_df['RUL'] = test_df['max'] - test_df['cycle']\n",
    "test_df.drop('max', axis=1, inplace=True)"
   ]
  },
  {
   "cell_type": "code",
   "execution_count": 225,
   "metadata": {},
   "outputs": [],
   "source": [
    "# generate label columns w0 and w1 for test data\n",
    "test_df['label1'] = np.where(test_df['RUL'] <= w1, 1, 0 )\n",
    "test_df['label2'] = test_df['label1']\n",
    "test_df.loc[test_df['RUL'] <= w0, 'label2'] = 2"
   ]
  },
  {
   "cell_type": "code",
   "execution_count": 226,
   "metadata": {},
   "outputs": [],
   "source": [
    "# pick a large window size of 50 cycles\n",
    "sequence_length = 50"
   ]
  },
  {
   "cell_type": "code",
   "execution_count": 227,
   "metadata": {},
   "outputs": [],
   "source": [
    "# function to reshape features into (samples, time steps, features) \n",
    "def gen_sequence(id_df, seq_length, seq_cols):\n",
    "    \"\"\" Only sequences that meet the window-length are considered, no padding is used. This means for testing\n",
    "    we need to drop those which are below the window-length. An alternative would be to pad sequences so that\n",
    "    we can use shorter ones \"\"\"\n",
    "    # for one id I put all the rows in a single matrix\n",
    "    data_matrix = id_df[seq_cols].values\n",
    "    num_elements = data_matrix.shape[0]\n",
    "    # Iterate over two lists in parallel.\n",
    "    # For example id1 have 192 rows and sequence_length is equal to 50\n",
    "    # so zip iterate over two following list of numbers (0,112),(50,192)\n",
    "    # 0 50 -> from row 0 to row 50\n",
    "    # 1 51 -> from row 1 to row 51\n",
    "    # 2 52 -> from row 2 to row 52\n",
    "    # ...\n",
    "    # 111 191 -> from row 111 to 191\n",
    "    for start, stop in zip(range(0, num_elements-seq_length), range(seq_length, num_elements)):\n",
    "        yield data_matrix[start:stop, :]"
   ]
  },
  {
   "cell_type": "code",
   "execution_count": 228,
   "metadata": {},
   "outputs": [],
   "source": [
    "# pick the feature columns \n",
    "sensor_cols = ['s' + str(i) for i in range(1,22)]\n",
    "sequence_cols = ['setting1', 'setting2', 'setting3', 'cycle_norm']\n",
    "sequence_cols.extend(sensor_cols)"
   ]
  },
  {
   "cell_type": "code",
   "execution_count": 229,
   "metadata": {},
   "outputs": [],
   "source": [
    "# generator for the sequences\n",
    "# transform each id of the train dataset in a sequence\n",
    "seq_gen = (list(gen_sequence(train_df[train_df['id']==id], sequence_length, sequence_cols)) \n",
    "           for id in train_df['id'].unique())"
   ]
  },
  {
   "cell_type": "code",
   "execution_count": 230,
   "metadata": {},
   "outputs": [
    {
     "name": "stdout",
     "output_type": "stream",
     "text": [
      "(15631, 50, 25)\n"
     ]
    }
   ],
   "source": [
    "# generate sequences and convert to numpy array\n",
    "seq_array = np.concatenate(list(seq_gen)).astype(np.float32)\n",
    "print(seq_array.shape)"
   ]
  },
  {
   "cell_type": "code",
   "execution_count": 231,
   "metadata": {},
   "outputs": [],
   "source": [
    "# function to generate labels\n",
    "def gen_labels(id_df, seq_length, label):\n",
    "    \"\"\" Only sequences that meet the window-length are considered, no padding is used. This means for testing\n",
    "    we need to drop those which are below the window-length. An alternative would be to pad sequences so that\n",
    "    we can use shorter ones \"\"\"\n",
    "    # For one id I put all the labels in a single matrix.\n",
    "    # For example:\n",
    "    # [[1]\n",
    "    # [4]\n",
    "    # [1]\n",
    "    # [5]\n",
    "    # [9]\n",
    "    # ...\n",
    "    # [200]] \n",
    "    data_matrix = id_df[label].values\n",
    "    num_elements = data_matrix.shape[0]\n",
    "    # I have to remove the first seq_length labels\n",
    "    # because for one id the first sequence of seq_length size have as target\n",
    "    # the last label (the previus ones are discarded).\n",
    "    # All the next id's sequences will have associated step by step one label as target.\n",
    "    return data_matrix[seq_length:num_elements, :]"
   ]
  },
  {
   "cell_type": "code",
   "execution_count": 232,
   "metadata": {},
   "outputs": [
    {
     "data": {
      "text/plain": [
       "(15631, 1)"
      ]
     },
     "execution_count": 232,
     "metadata": {},
     "output_type": "execute_result"
    }
   ],
   "source": [
    "# generate labels\n",
    "label_gen = [gen_labels(train_df[train_df['id']==id], sequence_length, ['RUL']) \n",
    "             for id in train_df['id'].unique()]\n",
    "\n",
    "label_array = np.concatenate(label_gen).astype(np.float32)\n",
    "label_array.shape"
   ]
  },
  {
   "cell_type": "code",
   "execution_count": 233,
   "metadata": {},
   "outputs": [],
   "source": [
    "# seq_array"
   ]
  },
  {
   "cell_type": "code",
   "execution_count": 191,
   "metadata": {},
   "outputs": [],
   "source": [
    "def r2_keras(y_true, y_pred):\n",
    "    \"\"\"Coefficient of Determination \n",
    "    \"\"\"\n",
    "    SS_res =  K.sum(K.square( y_true - y_pred ))\n",
    "    SS_tot = K.sum(K.square( y_true - K.mean(y_true) ) )\n",
    "    return ( 1 - SS_res/(SS_tot + K.epsilon()) )\n",
    "\n",
    "# Next, we build a deep network. \n",
    "# The first layer is an LSTM layer with 100 units followed by another LSTM layer with 50 units. \n",
    "# Dropout is also applied after each LSTM layer to control overfitting. \n",
    "# Final layer is a Dense output layer with single unit and linear activation since this is a regression problem.\n",
    "nb_features = seq_array.shape[2]\n",
    "nb_out = label_array.shape[1]"
   ]
  },
  {
   "cell_type": "code",
   "execution_count": 192,
   "metadata": {},
   "outputs": [
    {
     "name": "stdout",
     "output_type": "stream",
     "text": [
      "Model: \"sequential_3\"\n",
      "_________________________________________________________________\n",
      "Layer (type)                 Output Shape              Param #   \n",
      "=================================================================\n",
      "lstm_5 (LSTM)                (None, 50, 100)           50400     \n",
      "_________________________________________________________________\n",
      "dropout_5 (Dropout)          (None, 50, 100)           0         \n",
      "_________________________________________________________________\n",
      "lstm_6 (LSTM)                (None, 50)                30200     \n",
      "_________________________________________________________________\n",
      "dropout_6 (Dropout)          (None, 50)                0         \n",
      "_________________________________________________________________\n",
      "dense_3 (Dense)              (None, 1)                 51        \n",
      "_________________________________________________________________\n",
      "activation_3 (Activation)    (None, 1)                 0         \n",
      "=================================================================\n",
      "Total params: 80,651\n",
      "Trainable params: 80,651\n",
      "Non-trainable params: 0\n",
      "_________________________________________________________________\n",
      "None\n"
     ]
    }
   ],
   "source": [
    "model = Sequential()\n",
    "model.add(LSTM(\n",
    "         input_shape=(sequence_length, nb_features),\n",
    "         units=100,\n",
    "         return_sequences=True))\n",
    "model.add(Dropout(0.2))\n",
    "model.add(LSTM(\n",
    "          units=50,\n",
    "          return_sequences=False))\n",
    "model.add(Dropout(0.2))\n",
    "model.add(Dense(units=nb_out))\n",
    "model.add(Activation(\"linear\"))\n",
    "model.compile(loss='mean_squared_error', optimizer='rmsprop',metrics=['mae',r2_keras])\n",
    "\n",
    "print(model.summary())"
   ]
  },
  {
   "cell_type": "code",
   "execution_count": 193,
   "metadata": {},
   "outputs": [],
   "source": [
    "filepath=\"weights.regression.hdf5\"\n",
    "early_stop = EarlyStopping(monitor='val_loss', mode='min', verbose=0, patience=10,min_delta=0)\n",
    "checkpoint = ModelCheckpoint(filepath, monitor='val_loss', verbose=0, save_best_only=True, mode='auto')"
   ]
  },
  {
   "cell_type": "code",
   "execution_count": 194,
   "metadata": {},
   "outputs": [
    {
     "name": "stdout",
     "output_type": "stream",
     "text": [
      "Train on 14849 samples, validate on 782 samples\n",
      "Epoch 1/100\n",
      " - 26s - loss: 8850.9437 - mae: 75.3766 - r2_keras: -1.7312e+00 - val_loss: 8279.3015 - val_mae: 72.5788 - val_r2_keras: -2.4848e+00\n",
      "Epoch 2/100\n",
      " - 24s - loss: 8163.0736 - mae: 71.4104 - r2_keras: -1.5122e+00 - val_loss: 7724.4068 - val_mae: 69.3535 - val_r2_keras: -2.2226e+00\n",
      "Epoch 3/100\n",
      " - 24s - loss: 7639.8990 - mae: 68.3928 - r2_keras: -1.3502e+00 - val_loss: 7227.1198 - val_mae: 66.4798 - val_r2_keras: -1.9895e+00\n",
      "Epoch 4/100\n",
      " - 24s - loss: 7157.3487 - mae: 65.6284 - r2_keras: -1.2050e+00 - val_loss: 6759.2507 - val_mae: 63.7932 - val_r2_keras: -1.7722e+00\n",
      "Epoch 5/100\n",
      " - 24s - loss: 6701.2861 - mae: 63.0382 - r2_keras: -1.0644e+00 - val_loss: 6319.3639 - val_mae: 61.2870 - val_r2_keras: -1.5700e+00\n",
      "Epoch 6/100\n",
      " - 24s - loss: 6274.7889 - mae: 60.6404 - r2_keras: -9.3416e-01 - val_loss: 5909.7483 - val_mae: 58.9737 - val_r2_keras: -1.3839e+00\n",
      "Epoch 7/100\n",
      " - 24s - loss: 5875.3461 - mae: 58.3908 - r2_keras: -8.0836e-01 - val_loss: 5528.7485 - val_mae: 56.8427 - val_r2_keras: -1.2132e+00\n",
      "Epoch 8/100\n",
      " - 24s - loss: 5510.2019 - mae: 56.3760 - r2_keras: -6.9246e-01 - val_loss: 5178.3806 - val_mae: 54.9049 - val_r2_keras: -1.0587e+00\n",
      "Epoch 9/100\n",
      " - 24s - loss: 5168.6496 - mae: 54.5479 - r2_keras: -5.8780e-01 - val_loss: 4854.8371 - val_mae: 53.1398 - val_r2_keras: -9.1880e-01\n",
      "Epoch 10/100\n",
      " - 24s - loss: 4851.9166 - mae: 52.8675 - r2_keras: -4.8847e-01 - val_loss: 4561.1761 - val_mae: 51.5658 - val_r2_keras: -7.9477e-01\n",
      "Epoch 11/100\n",
      " - 24s - loss: 4579.5501 - mae: 51.4224 - r2_keras: -4.0407e-01 - val_loss: 4296.9212 - val_mae: 50.1774 - val_r2_keras: -6.8637e-01\n",
      "Epoch 12/100\n",
      " - 24s - loss: 4325.3492 - mae: 50.1513 - r2_keras: -3.2525e-01 - val_loss: 4059.8599 - val_mae: 48.9627 - val_r2_keras: -5.9266e-01\n",
      "Epoch 13/100\n",
      " - 24s - loss: 4104.5733 - mae: 49.1080 - r2_keras: -2.6141e-01 - val_loss: 3852.0775 - val_mae: 47.9338 - val_r2_keras: -5.1446e-01\n",
      "Epoch 14/100\n",
      " - 24s - loss: 3900.8974 - mae: 48.0575 - r2_keras: -1.9837e-01 - val_loss: 3672.9358 - val_mae: 47.0868 - val_r2_keras: -4.5143e-01\n",
      "Epoch 15/100\n",
      " - 24s - loss: 3742.5554 - mae: 47.3557 - r2_keras: -1.4871e-01 - val_loss: 3522.0961 - val_mae: 46.4169 - val_r2_keras: -4.0332e-01\n",
      "Epoch 16/100\n",
      " - 24s - loss: 3599.2142 - mae: 46.7653 - r2_keras: -1.0692e-01 - val_loss: 3398.4817 - val_mae: 45.9201 - val_r2_keras: -3.6970e-01\n",
      "Epoch 17/100\n",
      " - 24s - loss: 3498.2438 - mae: 46.4118 - r2_keras: -7.5283e-02 - val_loss: 3305.5481 - val_mae: 45.6052 - val_r2_keras: -3.5091e-01\n",
      "Epoch 18/100\n",
      " - 24s - loss: 3414.8039 - mae: 46.2407 - r2_keras: -5.0550e-02 - val_loss: 3240.3871 - val_mae: 45.4488 - val_r2_keras: -3.4493e-01\n",
      "Epoch 19/100\n",
      " - 24s - loss: 3344.7287 - mae: 46.0370 - r2_keras: -2.7124e-02 - val_loss: 3197.4604 - val_mae: 45.4228 - val_r2_keras: -3.4962e-01\n",
      "Epoch 20/100\n",
      " - 24s - loss: 3319.4093 - mae: 46.0728 - r2_keras: -2.0102e-02 - val_loss: 3177.9699 - val_mae: 45.4801 - val_r2_keras: -3.5956e-01\n",
      "Epoch 21/100\n",
      " - 24s - loss: 3302.7156 - mae: 46.1649 - r2_keras: -1.7374e-02 - val_loss: 3170.4287 - val_mae: 45.5600 - val_r2_keras: -3.6974e-01\n",
      "Epoch 22/100\n",
      " - 24s - loss: 3313.8751 - mae: 46.3274 - r2_keras: -1.8890e-02 - val_loss: 3168.7848 - val_mae: 45.6000 - val_r2_keras: -3.7464e-01\n",
      "Epoch 23/100\n",
      " - 24s - loss: 3304.6583 - mae: 46.3361 - r2_keras: -1.6014e-02 - val_loss: 3168.0346 - val_mae: 45.6403 - val_r2_keras: -3.7914e-01\n",
      "Epoch 24/100\n",
      " - 25s - loss: 3311.4269 - mae: 46.4190 - r2_keras: -1.8449e-02 - val_loss: 3167.8850 - val_mae: 45.6594 - val_r2_keras: -3.8138e-01\n",
      "Epoch 25/100\n",
      " - 24s - loss: 3303.6515 - mae: 46.2860 - r2_keras: -1.6523e-02 - val_loss: 3167.8618 - val_mae: 45.6762 - val_r2_keras: -3.8330e-01\n",
      "Epoch 26/100\n",
      " - 24s - loss: 3311.9966 - mae: 46.1197 - r2_keras: -1.6175e-02 - val_loss: 3154.6270 - val_mae: 45.1135 - val_r2_keras: -3.3221e-01\n",
      "Epoch 27/100\n",
      " - 25s - loss: 3311.6316 - mae: 45.5741 - r2_keras: -1.5572e-02 - val_loss: 2938.8621 - val_mae: 43.6400 - val_r2_keras: -3.0020e-01\n",
      "Epoch 28/100\n",
      " - 24s - loss: 2408.1951 - mae: 35.6660 - r2_keras: 0.2646 - val_loss: 2078.7658 - val_mae: 33.9227 - val_r2_keras: 0.1699\n",
      "Epoch 29/100\n",
      " - 25s - loss: 2011.2845 - mae: 30.6105 - r2_keras: 0.3853 - val_loss: 1757.2989 - val_mae: 28.8399 - val_r2_keras: 0.3493\n",
      "Epoch 30/100\n",
      " - 24s - loss: 1796.2025 - mae: 27.8556 - r2_keras: 0.4533 - val_loss: 1525.4743 - val_mae: 25.0402 - val_r2_keras: 0.4716\n",
      "Epoch 31/100\n",
      " - 24s - loss: 1646.8694 - mae: 26.3015 - r2_keras: 0.4973 - val_loss: 1469.6965 - val_mae: 23.2851 - val_r2_keras: 0.5055\n",
      "Epoch 32/100\n",
      " - 24s - loss: 1515.7371 - mae: 24.9394 - r2_keras: 0.5380 - val_loss: 1451.9481 - val_mae: 26.5650 - val_r2_keras: 0.4565\n",
      "Epoch 33/100\n",
      " - 24s - loss: 1419.5712 - mae: 24.0051 - r2_keras: 0.5677 - val_loss: 1360.3694 - val_mae: 24.7859 - val_r2_keras: 0.4456\n",
      "Epoch 34/100\n",
      " - 24s - loss: 1313.4201 - mae: 22.9669 - r2_keras: 0.6015 - val_loss: 1194.1615 - val_mae: 20.3590 - val_r2_keras: 0.6132\n",
      "Epoch 35/100\n",
      " - 24s - loss: 1236.9024 - mae: 22.1389 - r2_keras: 0.6228 - val_loss: 1111.4614 - val_mae: 21.2914 - val_r2_keras: 0.5857\n",
      "Epoch 36/100\n",
      " - 25s - loss: 1162.8038 - mae: 21.3765 - r2_keras: 0.6448 - val_loss: 1467.9114 - val_mae: 23.5699 - val_r2_keras: 0.4981\n",
      "Epoch 37/100\n",
      " - 24s - loss: 1106.4332 - mae: 20.9008 - r2_keras: 0.6630 - val_loss: 923.9146 - val_mae: 18.7388 - val_r2_keras: 0.6726\n",
      "Epoch 38/100\n",
      " - 24s - loss: 1029.7803 - mae: 20.0803 - r2_keras: 0.6848 - val_loss: 1187.7307 - val_mae: 25.3193 - val_r2_keras: 0.4600\n",
      "Epoch 39/100\n",
      " - 24s - loss: 994.2772 - mae: 19.7755 - r2_keras: 0.6963 - val_loss: 907.2080 - val_mae: 19.4633 - val_r2_keras: 0.6288\n",
      "Epoch 40/100\n",
      " - 25s - loss: 943.9921 - mae: 19.2983 - r2_keras: 0.7134 - val_loss: 922.7517 - val_mae: 19.5061 - val_r2_keras: 0.6545\n",
      "Epoch 41/100\n",
      " - 24s - loss: 927.0206 - mae: 19.1965 - r2_keras: 0.7169 - val_loss: 1023.0793 - val_mae: 22.7672 - val_r2_keras: 0.4985\n",
      "Epoch 42/100\n",
      " - 24s - loss: 884.5103 - mae: 18.7664 - r2_keras: 0.7298 - val_loss: 787.9412 - val_mae: 18.8224 - val_r2_keras: 0.6637\n",
      "Epoch 43/100\n",
      " - 24s - loss: 851.9978 - mae: 18.4593 - r2_keras: 0.7407 - val_loss: 1036.1907 - val_mae: 17.5440 - val_r2_keras: 0.6533\n",
      "Epoch 44/100\n",
      " - 24s - loss: 829.7177 - mae: 18.2045 - r2_keras: 0.7478 - val_loss: 830.2591 - val_mae: 19.6708 - val_r2_keras: 0.6545\n",
      "Epoch 45/100\n",
      " - 24s - loss: 804.9307 - mae: 17.9613 - r2_keras: 0.7543 - val_loss: 809.8966 - val_mae: 20.6218 - val_r2_keras: 0.6315\n",
      "Epoch 46/100\n",
      " - 24s - loss: 783.4554 - mae: 17.8079 - r2_keras: 0.7624 - val_loss: 883.2127 - val_mae: 20.8218 - val_r2_keras: 0.5897\n",
      "Epoch 47/100\n",
      " - 24s - loss: 761.0712 - mae: 17.5853 - r2_keras: 0.7688 - val_loss: 634.0493 - val_mae: 16.3902 - val_r2_keras: 0.7342\n",
      "Epoch 48/100\n",
      " - 24s - loss: 730.9296 - mae: 17.1886 - r2_keras: 0.7765 - val_loss: 1220.3273 - val_mae: 21.8702 - val_r2_keras: 0.5865\n",
      "Epoch 49/100\n",
      " - 25s - loss: 742.4277 - mae: 17.4110 - r2_keras: 0.7739 - val_loss: 642.4830 - val_mae: 16.4475 - val_r2_keras: 0.7090\n",
      "Epoch 50/100\n",
      " - 24s - loss: 713.1441 - mae: 17.0551 - r2_keras: 0.7823 - val_loss: 873.2545 - val_mae: 18.9778 - val_r2_keras: 0.6447\n",
      "Epoch 51/100\n",
      " - 24s - loss: 687.6130 - mae: 16.7108 - r2_keras: 0.7893 - val_loss: 1227.3172 - val_mae: 19.0242 - val_r2_keras: 0.6076\n",
      "Epoch 52/100\n",
      " - 25s - loss: 679.8668 - mae: 16.7428 - r2_keras: 0.7914 - val_loss: 1449.9809 - val_mae: 26.3240 - val_r2_keras: 0.0840\n",
      "Epoch 53/100\n",
      " - 24s - loss: 659.8071 - mae: 16.4086 - r2_keras: 0.7978 - val_loss: 900.8862 - val_mae: 19.0401 - val_r2_keras: 0.5851\n",
      "Epoch 54/100\n",
      " - 24s - loss: 643.5133 - mae: 16.1802 - r2_keras: 0.8037 - val_loss: 1034.0055 - val_mae: 18.5175 - val_r2_keras: 0.6018\n",
      "Epoch 55/100\n",
      " - 24s - loss: 619.7411 - mae: 15.9865 - r2_keras: 0.8096 - val_loss: 1326.5321 - val_mae: 24.7240 - val_r2_keras: 0.3573\n",
      "Epoch 56/100\n",
      " - 24s - loss: 607.5942 - mae: 15.8953 - r2_keras: 0.8140 - val_loss: 1068.3302 - val_mae: 24.2141 - val_r2_keras: 0.4374\n",
      "Epoch 57/100\n",
      " - 24s - loss: 595.1166 - mae: 15.5783 - r2_keras: 0.8190 - val_loss: 1380.2896 - val_mae: 22.3029 - val_r2_keras: 0.4084\n",
      "dict_keys(['val_loss', 'val_mae', 'val_r2_keras', 'loss', 'mae', 'r2_keras'])\n"
     ]
    }
   ],
   "source": [
    "# fit the network\n",
    "history = model.fit(seq_array, label_array, epochs=100, batch_size=200, validation_split=0.05, verbose=2,\n",
    "          callbacks = [early_stop,checkpoint]\n",
    "          )\n",
    "\n",
    "# list all data in history\n",
    "print(history.history.keys())"
   ]
  },
  {
   "cell_type": "code",
   "execution_count": 195,
   "metadata": {},
   "outputs": [],
   "source": [
    "model.load_weights(\"weights.regression.hdf5\")\n",
    "model.compile(loss='mean_squared_error', optimizer='rmsprop',metrics=['mae',r2_keras])\n"
   ]
  },
  {
   "cell_type": "code",
   "execution_count": 196,
   "metadata": {},
   "outputs": [
    {
     "data": {
      "image/png": "[encoded data removed]",
      "text/plain": [
       "<Figure size 720x720 with 1 Axes>"
      ]
     },
     "metadata": {
      "needs_background": "light"
     },
     "output_type": "display_data"
    }
   ],
   "source": [
    "# summarize history for R^2\n",
    "fig_acc = plt.figure(figsize=(10, 10))\n",
    "plt.plot(history.history['r2_keras'])\n",
    "plt.plot(history.history['val_r2_keras'])\n",
    "plt.title('model r^2')\n",
    "plt.ylabel('R^2')\n",
    "plt.xlabel('epoch')\n",
    "plt.legend(['train', 'test'], loc='upper left')\n",
    "plt.show()"
   ]
  },
  {
   "cell_type": "code",
   "execution_count": 197,
   "metadata": {},
   "outputs": [
    {
     "data": {
      "image/png": "[encoded data removed]",
      "text/plain": [
       "<Figure size 720x720 with 1 Axes>"
      ]
     },
     "metadata": {
      "needs_background": "light"
     },
     "output_type": "display_data"
    }
   ],
   "source": [
    "# summarize history for MAE\n",
    "fig_acc = plt.figure(figsize=(10, 10))\n",
    "plt.plot(history.history['mae'])\n",
    "plt.plot(history.history['val_mae'])\n",
    "plt.title('model MAE')\n",
    "plt.ylabel('MAE')\n",
    "plt.xlabel('epoch')\n",
    "plt.legend(['train', 'test'], loc='upper left')\n",
    "plt.show()"
   ]
  },
  {
   "cell_type": "code",
   "execution_count": 198,
   "metadata": {},
   "outputs": [
    {
     "data": {
      "image/png": "[encoded data removed]",
      "text/plain": [
       "<Figure size 720x720 with 1 Axes>"
      ]
     },
     "metadata": {
      "needs_background": "light"
     },
     "output_type": "display_data"
    }
   ],
   "source": [
    "# summarize history for Loss\n",
    "fig_acc = plt.figure(figsize=(10, 10))\n",
    "plt.plot(history.history['loss'])\n",
    "plt.plot(history.history['val_loss'])\n",
    "plt.title('model loss')\n",
    "plt.ylabel('loss')\n",
    "plt.xlabel('epoch')\n",
    "plt.legend(['train', 'test'], loc='upper left')\n",
    "plt.show()"
   ]
  },
  {
   "cell_type": "code",
   "execution_count": 199,
   "metadata": {},
   "outputs": [
    {
     "name": "stdout",
     "output_type": "stream",
     "text": [
      "15631/15631 [==============================] - 6s 398us/step\n",
      "\n",
      "MAE: 15.705648422241211\n",
      "\n",
      "R^2: 0.7698741555213928\n"
     ]
    }
   ],
   "source": [
    "# training metrics\n",
    "scores = model.evaluate(seq_array, label_array, verbose=1, batch_size=200)\n",
    "print('\\nMAE: {}'.format(scores[1]))\n",
    "print('\\nR^2: {}'.format(scores[2]))"
   ]
  },
  {
   "cell_type": "code",
   "execution_count": 200,
   "metadata": {},
   "outputs": [
    {
     "name": "stdout",
     "output_type": "stream",
     "text": [
      "15631/15631 [==============================] - 5s 332us/step\n"
     ]
    }
   ],
   "source": [
    "y_pred = model.predict(seq_array,verbose=1, batch_size=200)\n",
    "y_true = label_array"
   ]
  },
  {
   "cell_type": "code",
   "execution_count": 234,
   "metadata": {},
   "outputs": [
    {
     "name": "stdout",
     "output_type": "stream",
     "text": [
      "seq_array_test_last\n",
      "(93, 50, 25)\n",
      "(93, 1)\n",
      "label_array_test_last\n",
      "[[ 69.]\n",
      " [ 82.]\n",
      " [ 91.]\n",
      " [ 93.]\n",
      " [ 91.]\n",
      " [ 95.]\n",
      " [111.]\n",
      " [ 96.]\n",
      " [ 97.]\n",
      " [124.]\n",
      " [ 95.]\n",
      " [ 83.]\n",
      " [ 84.]\n",
      " [ 50.]\n",
      " [ 28.]\n",
      " [ 87.]\n",
      " [ 16.]\n",
      " [ 57.]\n",
      " [113.]\n",
      " [ 20.]\n",
      " [119.]\n",
      " [ 66.]\n",
      " [ 97.]\n",
      " [ 90.]\n",
      " [115.]\n",
      " [  8.]\n",
      " [ 48.]\n",
      " [106.]\n",
      " [  7.]\n",
      " [ 11.]\n",
      " [ 19.]\n",
      " [ 21.]\n",
      " [ 50.]\n",
      " [ 28.]\n",
      " [ 18.]\n",
      " [ 10.]\n",
      " [ 59.]\n",
      " [109.]\n",
      " [114.]\n",
      " [ 47.]\n",
      " [135.]\n",
      " [ 92.]\n",
      " [ 21.]\n",
      " [ 79.]\n",
      " [114.]\n",
      " [ 29.]\n",
      " [ 26.]\n",
      " [ 97.]\n",
      " [137.]\n",
      " [ 15.]\n",
      " [103.]\n",
      " [ 37.]\n",
      " [114.]\n",
      " [100.]\n",
      " [ 21.]\n",
      " [ 54.]\n",
      " [ 72.]\n",
      " [ 28.]\n",
      " [128.]\n",
      " [ 14.]\n",
      " [ 77.]\n",
      " [  8.]\n",
      " [121.]\n",
      " [ 94.]\n",
      " [118.]\n",
      " [ 50.]\n",
      " [131.]\n",
      " [126.]\n",
      " [113.]\n",
      " [ 10.]\n",
      " [ 34.]\n",
      " [107.]\n",
      " [ 63.]\n",
      " [ 90.]\n",
      " [  8.]\n",
      " [  9.]\n",
      " [137.]\n",
      " [ 58.]\n",
      " [ 89.]\n",
      " [116.]\n",
      " [115.]\n",
      " [136.]\n",
      " [ 28.]\n",
      " [ 38.]\n",
      " [ 20.]\n",
      " [ 85.]\n",
      " [ 55.]\n",
      " [128.]\n",
      " [137.]\n",
      " [ 82.]\n",
      " [ 59.]\n",
      " [117.]\n",
      " [ 20.]]\n"
     ]
    }
   ],
   "source": [
    "# We pick the last sequence for each id in the test data\n",
    "seq_array_test_last = [test_df[test_df['id']==id][sequence_cols].values[-sequence_length:] \n",
    "                       for id in test_df['id'].unique() if len(test_df[test_df['id']==id]) >= sequence_length]\n",
    "\n",
    "seq_array_test_last = np.asarray(seq_array_test_last).astype(np.float32)\n",
    "print(\"seq_array_test_last\")\n",
    "#print(seq_array_test_last)\n",
    "print(seq_array_test_last.shape)\n",
    "\n",
    "# Similarly, we pick the labels\n",
    "#print(\"y_mask\")\n",
    "y_mask = [len(test_df[test_df['id']==id]) >= sequence_length for id in test_df['id'].unique()]\n",
    "label_array_test_last = test_df.groupby('id')['RUL'].nth(-1)[y_mask].values\n",
    "label_array_test_last = label_array_test_last.reshape(label_array_test_last.shape[0],1).astype(np.float32)\n",
    "print(label_array_test_last.shape)\n",
    "print(\"label_array_test_last\")\n",
    "print(label_array_test_last)\n"
   ]
  },
  {
   "cell_type": "code",
   "execution_count": 236,
   "metadata": {},
   "outputs": [
    {
     "name": "stdout",
     "output_type": "stream",
     "text": [
      "\n",
      "MAE: 13.160728454589844\n",
      "\n",
      "R^2: 0.7717217803001404\n"
     ]
    }
   ],
   "source": [
    "# test metrics\n",
    "scores_test = model.evaluate(seq_array_test_last, label_array_test_last, verbose=2)\n",
    "print('\\nMAE: {}'.format(scores_test[1]))\n",
    "print('\\nR^2: {}'.format(scores_test[2]))"
   ]
  },
  {
   "cell_type": "code",
   "execution_count": 247,
   "metadata": {},
   "outputs": [
    {
     "data": {
      "text/plain": [
       "(10, 50, 25)"
      ]
     },
     "execution_count": 247,
     "metadata": {},
     "output_type": "execute_result"
    }
   ],
   "source": [
    "demo = seq_array_test_last[0:10]\n",
    "demo.shape"
   ]
  },
  {
   "cell_type": "code",
   "execution_count": 248,
   "metadata": {},
   "outputs": [
    {
     "data": {
      "text/plain": [
       "array([[[-0.23      ,  0.8333333 ,  0.        , ...,  0.        ,\n",
       "          0.4728682 ,  0.45457056],\n",
       "        [ 0.39655173,  0.5833333 ,  0.        , ...,  0.        ,\n",
       "          0.6511628 ,  0.5608948 ],\n",
       "        [ 0.5114943 ,  0.25      ,  0.        , ...,  0.        ,\n",
       "          0.6356589 ,  0.4975145 ],\n",
       "        ...,\n",
       "        [ 0.43678162,  0.75      ,  0.        , ...,  0.        ,\n",
       "          0.41860464,  0.4710025 ],\n",
       "        [ 0.5804598 ,  0.6666667 ,  0.        , ...,  0.        ,\n",
       "          0.3255814 ,  0.45954156],\n",
       "        [ 0.40804598,  0.8333333 ,  0.        , ...,  0.        ,\n",
       "          0.6124031 ,  0.52444077]],\n",
       "\n",
       "       [[ 0.55172414,  0.25      ,  0.        , ...,  0.        ,\n",
       "          0.5503876 ,  0.6974593 ],\n",
       "        [ 0.39655173,  0.5833333 ,  0.        , ...,  0.        ,\n",
       "          0.37209302,  0.59748685],\n",
       "        [ 0.5344828 ,  0.16666667,  0.        , ...,  0.        ,\n",
       "          0.51937985,  0.602596  ],\n",
       "        ...,\n",
       "        [ 0.43103448,  0.33333334,  0.        , ...,  0.        ,\n",
       "          0.56589144,  0.49461475],\n",
       "        [ 0.33908045,  0.25      ,  0.        , ...,  0.        ,\n",
       "          0.4108527 ,  0.5223695 ],\n",
       "        [ 0.5689655 ,  0.8333333 ,  0.        , ...,  0.        ,\n",
       "          0.34108528,  0.5024855 ]],\n",
       "\n",
       "       [[ 0.7356322 ,  0.25      ,  0.        , ...,  0.        ,\n",
       "          0.53488374,  0.6023198 ],\n",
       "        [ 0.67241377,  0.16666667,  0.        , ...,  0.        ,\n",
       "          0.58914727,  0.68102735],\n",
       "        [ 0.43678162,  0.5       ,  0.        , ...,  0.        ,\n",
       "          0.58914727,  0.546396  ],\n",
       "        ...,\n",
       "        [ 0.5689655 ,  0.33333334,  0.        , ...,  0.        ,\n",
       "          0.5503876 ,  0.4584369 ],\n",
       "        [ 0.29885057,  0.5       ,  0.        , ...,  0.        ,\n",
       "          0.41860464,  0.5625518 ],\n",
       "        [ 0.42528737,  0.16666667,  0.        , ...,  0.        ,\n",
       "          0.4728682 ,  0.7145816 ]],\n",
       "\n",
       "       ...,\n",
       "\n",
       "       [[ 0.55172414,  0.9166667 ,  0.        , ...,  0.        ,\n",
       "          0.68217057,  0.625794  ],\n",
       "        [ 0.63793105,  0.9166667 ,  0.        , ...,  0.        ,\n",
       "          0.58914727,  0.6032864 ],\n",
       "        [ 0.42528737,  0.41666666,  0.        , ...,  0.        ,\n",
       "          0.56589144,  0.55606186],\n",
       "        ...,\n",
       "        [ 0.4597701 ,  0.25      ,  0.        , ...,  0.        ,\n",
       "          0.5736434 ,  0.5834024 ],\n",
       "        [ 0.49425286,  0.75      ,  0.        , ...,  0.        ,\n",
       "          0.5271318 ,  0.60383874],\n",
       "        [ 0.39655173,  0.8333333 ,  0.        , ...,  0.        ,\n",
       "          0.503876  ,  0.55426675]],\n",
       "\n",
       "       [[ 0.37356323,  0.33333334,  0.        , ...,  0.        ,\n",
       "          0.45736435,  0.5390776 ],\n",
       "        [ 0.5       ,  0.5833333 ,  0.        , ...,  0.        ,\n",
       "          0.39534885,  0.48467276],\n",
       "        [ 0.4597701 ,  0.5       ,  0.        , ...,  0.        ,\n",
       "          0.6511628 ,  0.4832919 ],\n",
       "        ...,\n",
       "        [ 0.55172414,  0.75      ,  0.        , ...,  0.        ,\n",
       "          0.4651163 ,  0.4375863 ],\n",
       "        [ 0.5632184 ,  0.33333334,  0.        , ...,  0.        ,\n",
       "          0.5736434 ,  0.47735432],\n",
       "        [ 0.50574714,  0.8333333 ,  0.        , ...,  0.        ,\n",
       "          0.4031008 ,  0.5476388 ]],\n",
       "\n",
       "       [[ 0.45402297,  0.16666667,  0.        , ...,  0.        ,\n",
       "          0.53488374,  0.7098868 ],\n",
       "        [ 0.59770113,  0.25      ,  0.        , ...,  0.        ,\n",
       "          0.68992245,  0.78583264],\n",
       "        [ 0.5632184 ,  0.5       ,  0.        , ...,  0.        ,\n",
       "          0.6511628 ,  0.6313173 ],\n",
       "        ...,\n",
       "        [ 0.7011494 ,  0.5       ,  0.        , ...,  0.        ,\n",
       "          0.5271318 ,  0.65175366],\n",
       "        [ 0.46551725,  0.16666667,  0.        , ...,  0.        ,\n",
       "          0.53488374,  0.5980392 ],\n",
       "        [ 0.57471263,  0.75      ,  0.        , ...,  0.        ,\n",
       "          0.51937985,  0.54114884]]], dtype=float32)"
      ]
     },
     "execution_count": 248,
     "metadata": {},
     "output_type": "execute_result"
    }
   ],
   "source": [
    "# seq_array_test_last[0][0, 0] = -0.23\n",
    "demo"
   ]
  },
  {
   "cell_type": "code",
   "execution_count": 238,
   "metadata": {},
   "outputs": [
    {
     "data": {
      "text/plain": [
       "array([-0.23      ,  0.8333333 ,  0.        ,  0.21052632,  0.        ,\n",
       "        0.3945783 ,  0.40331373,  0.59098583,  0.        ,  1.        ,\n",
       "        0.49436393,  0.3181818 ,  0.14322893,  0.        ,  0.4940476 ,\n",
       "        0.5906183 ,  0.32352942,  0.17401177,  0.39438245,  0.        ,\n",
       "        0.33333334,  0.        ,  0.        ,  0.4728682 ,  0.45457056],\n",
       "      dtype=float32)"
      ]
     },
     "execution_count": 238,
     "metadata": {},
     "output_type": "execute_result"
    }
   ],
   "source": [
    "seq_array_test_last[0][0]"
   ]
  },
  {
   "cell_type": "code",
   "execution_count": 239,
   "metadata": {},
   "outputs": [
    {
     "data": {
      "text/plain": [
       "(49, 50, 25)"
      ]
     },
     "execution_count": 239,
     "metadata": {},
     "output_type": "execute_result"
    }
   ],
   "source": [
    "d = np.array([0.3505747 , 0.8333333 , 0.        , 0.21052632, 0.        ,\n",
    "       0.3945783 , 0.40331373, 0.59098583, 0.3        , 1.        ,\n",
    "       0.49436393, 0.3181818 , 0.14322893, 0.3        , 0.4940476 ,\n",
    "       0.5906183 , 0.32352942, 0.17401177, 0.39438245, 0.        ,\n",
    "       0.33333334, 0.45352        , 0.23        , 0.4728682 , 0.45457056])\n",
    "new_data = seq_array_test_last[:49]\n",
    "new_data.shape"
   ]
  },
  {
   "cell_type": "code",
   "execution_count": 249,
   "metadata": {},
   "outputs": [
    {
     "data": {
      "text/plain": [
       "array([[ 48.416626],\n",
       "       [ 80.00179 ],\n",
       "       [ 79.46395 ],\n",
       "       [111.204124],\n",
       "       [129.20221 ],\n",
       "       [ 85.84133 ],\n",
       "       [137.0376  ],\n",
       "       [ 76.58358 ],\n",
       "       [ 95.58735 ],\n",
       "       [109.24644 ]], dtype=float32)"
      ]
     },
     "execution_count": 249,
     "metadata": {},
     "output_type": "execute_result"
    }
   ],
   "source": [
    "new_pred = model.predict(demo)\n",
    "new_pred"
   ]
  },
  {
   "cell_type": "code",
   "execution_count": 250,
   "metadata": {},
   "outputs": [
    {
     "data": {
      "text/plain": [
       "array([[ 69.],\n",
       "       [ 82.],\n",
       "       [ 91.],\n",
       "       [ 93.],\n",
       "       [ 91.],\n",
       "       [ 95.],\n",
       "       [111.],\n",
       "       [ 96.],\n",
       "       [ 97.],\n",
       "       [124.]], dtype=float32)"
      ]
     },
     "execution_count": 250,
     "metadata": {},
     "output_type": "execute_result"
    }
   ],
   "source": [
    "label_array_test_last[0:10]"
   ]
  },
  {
   "cell_type": "code",
   "execution_count": null,
   "metadata": {},
   "outputs": [],
   "source": []
  }
 ],
 "metadata": {
  "kernelspec": {
   "display_name": "Python 3",
   "language": "python",
   "name": "python3"
  },
  "language_info": {
   "codemirror_mode": {
    "name": "ipython",
    "version": 3
   },
   "file_extension": ".py",
   "mimetype": "text/x-python",
   "name": "python",
   "nbconvert_exporter": "python",
   "pygments_lexer": "ipython3",
   "version": "3.7.4"
  }
 },
 "nbformat": 4,
 "nbformat_minor": 2
}
