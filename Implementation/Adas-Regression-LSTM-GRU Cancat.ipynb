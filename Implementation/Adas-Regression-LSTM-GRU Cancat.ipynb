{
 "cells": [
  {
   "cell_type": "code",
   "execution_count": 36,
   "metadata": {},
   "outputs": [],
   "source": [
    "import keras\n",
    "import keras.backend as K\n",
    "from keras.layers.core import Activation\n",
    "from keras.models import Sequential,load_model,Model\n",
    "from keras.layers import Dense, Dropout, LSTM,Input,Concatenate,GRU\n",
    "from keras.callbacks import EarlyStopping, ModelCheckpoint\n",
    "import pandas as pd\n",
    "import numpy as np\n",
    "import matplotlib.pyplot as plt\n",
    "import os\n",
    "from sklearn import preprocessing"
   ]
  },
  {
   "cell_type": "code",
   "execution_count": 8,
   "metadata": {},
   "outputs": [],
   "source": [
    "# Setting seed for reproducibility\n",
    "np.random.seed(1234)  \n",
    "PYTHONHASHSEED = 0\n"
   ]
  },
  {
   "cell_type": "code",
   "execution_count": 74,
   "metadata": {},
   "outputs": [],
   "source": [
    "# read training data - It is the aircraft engine run-to-failure data.\n",
    "train_df = pd.read_csv('PM_train.txt', sep=\" \", header=None)\n",
    "train_df.drop(train_df.columns[[26, 27]], axis=1, inplace=True)\n",
    "train_df.columns = ['id', 'cycle', 'setting1', 'setting2', 'setting3', 's1', 's2', 's3',\n",
    "                     's4', 's5', 's6', 's7', 's8', 's9', 's10', 's11', 's12', 's13', 's14',\n",
    "                     's15', 's16', 's17', 's18', 's19', 's20', 's21']"
   ]
  },
  {
   "cell_type": "code",
   "execution_count": 75,
   "metadata": {},
   "outputs": [],
   "source": [
    "train_df = train_df.sort_values(['id','cycle'])"
   ]
  },
  {
   "cell_type": "code",
   "execution_count": 76,
   "metadata": {},
   "outputs": [],
   "source": [
    "# read test data - It is the aircraft engine operating data without failure events recorded.\n",
    "test_df = pd.read_csv('PM_test.txt', sep=\" \", header=None)\n",
    "test_df.drop(test_df.columns[[26, 27]], axis=1, inplace=True)\n",
    "test_df.columns = ['id', 'cycle', 'setting1', 'setting2', 'setting3', 's1', 's2', 's3',\n",
    "                     's4', 's5', 's6', 's7', 's8', 's9', 's10', 's11', 's12', 's13', 's14',\n",
    "                     's15', 's16', 's17', 's18', 's19', 's20', 's21']"
   ]
  },
  {
   "cell_type": "code",
   "execution_count": 77,
   "metadata": {},
   "outputs": [],
   "source": [
    "# read ground truth data - It contains the information of true remaining cycles for each engine in the testing data.\n",
    "truth_df = pd.read_csv('PM_truth.txt', sep=\" \", header=None)\n",
    "truth_df.drop(truth_df.columns[[1]], axis=1, inplace=True)"
   ]
  },
  {
   "cell_type": "code",
   "execution_count": 78,
   "metadata": {},
   "outputs": [],
   "source": [
    "# Data Labeling - generate column RUL(Remaining Usefull Life or Time to Failure)\n",
    "rul = pd.DataFrame(train_df.groupby('id')['cycle'].max()).reset_index()\n",
    "rul.columns = ['id', 'max']\n",
    "train_df = train_df.merge(rul, on=['id'], how='left')\n",
    "train_df['RUL'] = train_df['max'] - train_df['cycle']\n",
    "train_df.drop('max', axis=1, inplace=True)"
   ]
  },
  {
   "cell_type": "code",
   "execution_count": 79,
   "metadata": {},
   "outputs": [],
   "source": [
    "# generate label columns for training data\n",
    "# we will only make use of \"label1\" for binary classification, \n",
    "# while trying to answer the question: is a specific engine going to fail within w1 cycles?\n",
    "w1 = 30\n",
    "w0 = 15\n",
    "train_df['label1'] = np.where(train_df['RUL'] <= w1, 1, 0 )\n",
    "train_df['label2'] = train_df['label1']\n",
    "train_df.loc[train_df['RUL'] <= w0, 'label2'] = 2"
   ]
  },
  {
   "cell_type": "code",
   "execution_count": 80,
   "metadata": {},
   "outputs": [],
   "source": [
    "# MinMax normalization (from 0 to 1)\n",
    "train_df['cycle_norm'] = train_df['cycle']\n",
    "cols_normalize = train_df.columns.difference(['id','cycle','RUL','label1','label2'])\n",
    "min_max_scaler = preprocessing.MinMaxScaler()\n",
    "norm_train_df = pd.DataFrame(min_max_scaler.fit_transform(train_df[cols_normalize]), \n",
    "                             columns=cols_normalize, \n",
    "                             index=train_df.index)\n",
    "join_df = train_df[train_df.columns.difference(cols_normalize)].join(norm_train_df)\n",
    "train_df = join_df.reindex(columns = train_df.columns)"
   ]
  },
  {
   "cell_type": "code",
   "execution_count": 81,
   "metadata": {},
   "outputs": [
    {
     "name": "stdout",
     "output_type": "stream",
     "text": [
      "   id  cycle  setting1  setting2  setting3   s1        s2  ...  s16       s17  s18  s19       s20       s21  cycle_norm\n",
      "0   1      1  0.632184  0.750000       0.0  0.0  0.545181  ...  0.0  0.333333  0.0  0.0  0.558140  0.661834     0.00000\n",
      "1   1      2  0.344828  0.250000       0.0  0.0  0.150602  ...  0.0  0.416667  0.0  0.0  0.682171  0.686827     0.00277\n",
      "2   1      3  0.517241  0.583333       0.0  0.0  0.376506  ...  0.0  0.416667  0.0  0.0  0.728682  0.721348     0.00554\n",
      "3   1      4  0.741379  0.500000       0.0  0.0  0.370482  ...  0.0  0.250000  0.0  0.0  0.666667  0.662110     0.00831\n",
      "4   1      5  0.580460  0.500000       0.0  0.0  0.391566  ...  0.0  0.166667  0.0  0.0  0.658915  0.716377     0.01108\n",
      "\n",
      "[5 rows x 27 columns]\n"
     ]
    }
   ],
   "source": [
    "# MinMax normalization (from 0 to 1)\n",
    "test_df['cycle_norm'] = test_df['cycle']\n",
    "norm_test_df = pd.DataFrame(min_max_scaler.transform(test_df[cols_normalize]), \n",
    "                            columns=cols_normalize, \n",
    "                            index=test_df.index)\n",
    "test_join_df = test_df[test_df.columns.difference(cols_normalize)].join(norm_test_df)\n",
    "test_df = test_join_df.reindex(columns = test_df.columns)\n",
    "test_df = test_df.reset_index(drop=True)\n",
    "print(test_df.head())"
   ]
  },
  {
   "cell_type": "code",
   "execution_count": 82,
   "metadata": {},
   "outputs": [],
   "source": [
    "# We use the ground truth dataset to generate labels for the test data.\n",
    "# generate column max for test data\n",
    "rul = pd.DataFrame(test_df.groupby('id')['cycle'].max()).reset_index()\n",
    "rul.columns = ['id', 'max']\n",
    "truth_df.columns = ['more']\n",
    "truth_df['id'] = truth_df.index + 1\n",
    "truth_df['max'] = rul['max'] + truth_df['more']\n",
    "truth_df.drop('more', axis=1, inplace=True)"
   ]
  },
  {
   "cell_type": "code",
   "execution_count": 83,
   "metadata": {},
   "outputs": [],
   "source": [
    "# generate RUL for test data\n",
    "test_df = test_df.merge(truth_df, on=['id'], how='left')\n",
    "test_df['RUL'] = test_df['max'] - test_df['cycle']\n",
    "test_df.drop('max', axis=1, inplace=True)"
   ]
  },
  {
   "cell_type": "code",
   "execution_count": 84,
   "metadata": {},
   "outputs": [],
   "source": [
    "# generate label columns w0 and w1 for test data\n",
    "test_df['label1'] = np.where(test_df['RUL'] <= w1, 1, 0 )\n",
    "test_df['label2'] = test_df['label1']\n",
    "test_df.loc[test_df['RUL'] <= w0, 'label2'] = 2"
   ]
  },
  {
   "cell_type": "code",
   "execution_count": 85,
   "metadata": {},
   "outputs": [],
   "source": [
    "# pick a large window size of 50 cycles\n",
    "sequence_length = 50"
   ]
  },
  {
   "cell_type": "code",
   "execution_count": 86,
   "metadata": {},
   "outputs": [],
   "source": [
    "# function to reshape features into (samples, time steps, features) \n",
    "def gen_sequence(id_df, seq_length, seq_cols):\n",
    "    \"\"\" Only sequences that meet the window-length are considered, no padding is used. This means for testing\n",
    "    we need to drop those which are below the window-length. An alternative would be to pad sequences so that\n",
    "    we can use shorter ones \"\"\"\n",
    "    # for one id I put all the rows in a single matrix\n",
    "    data_matrix = id_df[seq_cols].values\n",
    "    num_elements = data_matrix.shape[0]\n",
    "    for start, stop in zip(range(0, num_elements-seq_length), range(seq_length, num_elements)):\n",
    "        yield data_matrix[start:stop, :]"
   ]
  },
  {
   "cell_type": "code",
   "execution_count": 87,
   "metadata": {},
   "outputs": [],
   "source": [
    "# pick the feature columns \n",
    "sensor_cols = ['s' + str(i) for i in range(1,22)]\n",
    "sequence_cols = ['setting1', 'setting2', 'setting3', 'cycle_norm']\n",
    "sequence_cols.extend(sensor_cols)"
   ]
  },
  {
   "cell_type": "code",
   "execution_count": 88,
   "metadata": {},
   "outputs": [],
   "source": [
    "# generator for the sequences\n",
    "# transform each id of the train dataset in a sequence\n",
    "seq_gen = (list(gen_sequence(train_df[train_df['id']==id], sequence_length, sequence_cols)) \n",
    "           for id in train_df['id'].unique())"
   ]
  },
  {
   "cell_type": "code",
   "execution_count": 89,
   "metadata": {},
   "outputs": [
    {
     "name": "stdout",
     "output_type": "stream",
     "text": [
      "(15631, 50, 25)\n"
     ]
    }
   ],
   "source": [
    "# generate sequences and convert to numpy array\n",
    "seq_array = np.concatenate(list(seq_gen)).astype(np.float32)\n",
    "print(seq_array.shape)"
   ]
  },
  {
   "cell_type": "code",
   "execution_count": 90,
   "metadata": {},
   "outputs": [],
   "source": [
    "# function to generate labels\n",
    "def gen_labels(id_df, seq_length, label):\n",
    "    \"\"\" Only sequences that meet the window-length are considered, no padding is used. This means for testing\n",
    "    we need to drop those which are below the window-length. An alternative would be to pad sequences so that\n",
    "    we can use shorter ones \"\"\"\n",
    "    data_matrix = id_df[label].values\n",
    "    num_elements = data_matrix.shape[0]\n",
    "    # I have to remove the first seq_length labels\n",
    "    # because for one id the first sequence of seq_length size have as target\n",
    "    # the last label (the previus ones are discarded).\n",
    "    # All the next id's sequences will have associated step by step one label as target.\n",
    "    return data_matrix[seq_length:num_elements, :]"
   ]
  },
  {
   "cell_type": "code",
   "execution_count": 91,
   "metadata": {},
   "outputs": [
    {
     "data": {
      "text/plain": [
       "(15631, 1)"
      ]
     },
     "execution_count": 91,
     "metadata": {},
     "output_type": "execute_result"
    }
   ],
   "source": [
    "# generate labels\n",
    "label_gen = [gen_labels(train_df[train_df['id']==id], sequence_length, ['RUL']) \n",
    "             for id in train_df['id'].unique()]\n",
    "\n",
    "label_array = np.concatenate(label_gen).astype(np.float32)\n",
    "label_array.shape"
   ]
  },
  {
   "cell_type": "code",
   "execution_count": 92,
   "metadata": {},
   "outputs": [],
   "source": [
    "def r2_keras(y_true, y_pred):\n",
    "    \"\"\"Coefficient of Determination \n",
    "    \"\"\"\n",
    "    SS_res =  K.sum(K.square( y_true - y_pred ))\n",
    "    SS_tot = K.sum(K.square( y_true - K.mean(y_true) ) )\n",
    "    return ( 1 - SS_res/(SS_tot + K.epsilon()) )\n",
    "\n",
    "# Next, we build a deep network. \n",
    "# The first layer is an LSTM layer with 100 units followed by another LSTM layer with 50 units. \n",
    "# Dropout is also applied after each LSTM layer to control overfitting. \n",
    "# Final layer is a Dense output layer with single unit and linear activation since this is a regression problem.\n",
    "nb_features = seq_array.shape[2]\n",
    "nb_out = label_array.shape[1]"
   ]
  },
  {
   "cell_type": "code",
   "execution_count": 99,
   "metadata": {},
   "outputs": [],
   "source": [
    "def best_model():\n",
    "    input1 = Input(shape=(sequence_length,nb_features),name='input1',dtype='float32')\n",
    "    input2 = Input(shape=(sequence_length,nb_features),name='input2',dtype='float32')\n",
    "    print(input1.shape)\n",
    "    print(input2.shape)\n",
    "    lstm1 = LSTM(units=200, return_sequences=True)(input1)\n",
    "    lstm1 = Dropout(0.2)(lstm1)\n",
    "    lstm1 = LSTM(units=100, return_sequences=True)(lstm1)\n",
    "    lstm1 = Dropout(0.2)(lstm1)\n",
    "    lstm1 = LSTM(units=50, return_sequences=False)(lstm1)\n",
    "    lstm1 = Dropout(0.2)(lstm1)\n",
    "    \n",
    "    lstm2 = GRU(units=200, return_sequences=True)(input2)\n",
    "    lstm2 = Dropout(0.2)(lstm2)\n",
    "    lstm2 = GRU(units=100, return_sequences=True)(lstm2)\n",
    "    lstm2 = Dropout(0.2)(lstm2)\n",
    "    lstm2 = GRU(units=50, return_sequences=False)(lstm2)\n",
    "    lstm2 = Dropout(0.2)(lstm2)\n",
    "    \n",
    "    comb = Concatenate(axis=1)([lstm1,lstm2])\n",
    "    pred = Dense(units=nb_out, activation='linear', name='output')(comb)\n",
    "    model = Model(inputs=[input1,input2], outputs=pred)\n",
    "    model.compile(loss='mean_squared_error', optimizer='rmsprop',metrics=['mae',r2_keras])\n",
    "\n",
    "    return model"
   ]
  },
  {
   "cell_type": "code",
   "execution_count": 100,
   "metadata": {},
   "outputs": [
    {
     "name": "stdout",
     "output_type": "stream",
     "text": [
      "(None, 50, 25)\n",
      "(None, 50, 25)\n",
      "Model: \"model_6\"\n",
      "__________________________________________________________________________________________________\n",
      "Layer (type)                    Output Shape         Param #     Connected to                     \n",
      "==================================================================================================\n",
      "input1 (InputLayer)             (None, 50, 25)       0                                            \n",
      "__________________________________________________________________________________________________\n",
      "input2 (InputLayer)             (None, 50, 25)       0                                            \n",
      "__________________________________________________________________________________________________\n",
      "lstm_24 (LSTM)                  (None, 50, 200)      180800      input1[0][0]                     \n",
      "__________________________________________________________________________________________________\n",
      "gru_19 (GRU)                    (None, 50, 200)      135600      input2[0][0]                     \n",
      "__________________________________________________________________________________________________\n",
      "dropout_42 (Dropout)            (None, 50, 200)      0           lstm_24[0][0]                    \n",
      "__________________________________________________________________________________________________\n",
      "dropout_45 (Dropout)            (None, 50, 200)      0           gru_19[0][0]                     \n",
      "__________________________________________________________________________________________________\n",
      "lstm_25 (LSTM)                  (None, 50, 100)      120400      dropout_42[0][0]                 \n",
      "__________________________________________________________________________________________________\n",
      "gru_20 (GRU)                    (None, 50, 100)      90300       dropout_45[0][0]                 \n",
      "__________________________________________________________________________________________________\n",
      "dropout_43 (Dropout)            (None, 50, 100)      0           lstm_25[0][0]                    \n",
      "__________________________________________________________________________________________________\n",
      "dropout_46 (Dropout)            (None, 50, 100)      0           gru_20[0][0]                     \n",
      "__________________________________________________________________________________________________\n",
      "lstm_26 (LSTM)                  (None, 50)           30200       dropout_43[0][0]                 \n",
      "__________________________________________________________________________________________________\n",
      "gru_21 (GRU)                    (None, 50)           22650       dropout_46[0][0]                 \n",
      "__________________________________________________________________________________________________\n",
      "dropout_44 (Dropout)            (None, 50)           0           lstm_26[0][0]                    \n",
      "__________________________________________________________________________________________________\n",
      "dropout_47 (Dropout)            (None, 50)           0           gru_21[0][0]                     \n",
      "__________________________________________________________________________________________________\n",
      "concatenate_7 (Concatenate)     (None, 100)          0           dropout_44[0][0]                 \n",
      "                                                                 dropout_47[0][0]                 \n",
      "__________________________________________________________________________________________________\n",
      "output (Dense)                  (None, 1)            101         concatenate_7[0][0]              \n",
      "==================================================================================================\n",
      "Total params: 580,051\n",
      "Trainable params: 580,051\n",
      "Non-trainable params: 0\n",
      "__________________________________________________________________________________________________\n"
     ]
    }
   ],
   "source": [
    "model = best_model()\n",
    "model.summary()"
   ]
  },
  {
   "cell_type": "code",
   "execution_count": 95,
   "metadata": {},
   "outputs": [],
   "source": [
    "filepath=\"weights.regression1.hdf5\"\n",
    "early_stop = EarlyStopping(monitor='val_loss', mode='min', verbose=0, patience=10,min_delta=0)\n",
    "checkpoint = ModelCheckpoint(filepath, monitor='val_loss', verbose=0, save_best_only=True, mode='auto')"
   ]
  },
  {
   "cell_type": "code",
   "execution_count": 101,
   "metadata": {},
   "outputs": [
    {
     "name": "stdout",
     "output_type": "stream",
     "text": [
      "Train on 14849 samples, validate on 782 samples\n",
      "Epoch 1/100\n",
      " - 113s - loss: 8008.6412 - mae: 70.4675 - r2_keras: -1.4641e+00 - val_loss: 7184.6759 - val_mae: 66.2355 - val_r2_keras: -1.9697e+00\n",
      "Epoch 2/100\n",
      " - 108s - loss: 6894.9055 - mae: 64.1376 - r2_keras: -1.1237e+00 - val_loss: 6291.4653 - val_mae: 61.1287 - val_r2_keras: -1.5572e+00\n",
      "Epoch 3/100\n",
      " - 109s - loss: 6060.1527 - mae: 59.4452 - r2_keras: -8.6024e-01 - val_loss: 5518.6044 - val_mae: 56.7863 - val_r2_keras: -1.2087e+00\n",
      "Epoch 4/100\n",
      " - 109s - loss: 5329.4820 - mae: 55.4188 - r2_keras: -6.3651e-01 - val_loss: 4856.2410 - val_mae: 53.1475 - val_r2_keras: -9.1940e-01\n",
      "Epoch 5/100\n",
      " - 111s - loss: 4720.4037 - mae: 52.1500 - r2_keras: -4.5175e-01 - val_loss: 4305.7194 - val_mae: 50.2229 - val_r2_keras: -6.8992e-01\n",
      "Epoch 6/100\n",
      " - 111s - loss: 4220.0692 - mae: 49.6003 - r2_keras: -2.9349e-01 - val_loss: 3868.9090 - val_mae: 48.0164 - val_r2_keras: -5.2062e-01\n",
      "Epoch 7/100\n",
      " - 111s - loss: 3837.9284 - mae: 47.7854 - r2_keras: -1.7759e-01 - val_loss: 3540.0587 - val_mae: 46.4939 - val_r2_keras: -4.0873e-01\n",
      "Epoch 8/100\n",
      " - 110s - loss: 3551.6313 - mae: 46.5770 - r2_keras: -9.2100e-02 - val_loss: 3318.8025 - val_mae: 45.6453 - val_r2_keras: -3.5305e-01\n",
      "Epoch 9/100\n",
      " - 107s - loss: 3375.5137 - mae: 46.0005 - r2_keras: -3.5611e-02 - val_loss: 3203.8846 - val_mae: 45.4170 - val_r2_keras: -3.4801e-01\n",
      "Epoch 10/100\n",
      " - 117s - loss: 3296.6122 - mae: 45.9958 - r2_keras: -1.3066e-02 - val_loss: 3172.3457 - val_mae: 45.5297 - val_r2_keras: -3.6612e-01\n",
      "Epoch 11/100\n",
      " - 120s - loss: 3292.7408 - mae: 46.1657 - r2_keras: -1.0809e-02 - val_loss: 3183.2388 - val_mae: 45.4393 - val_r2_keras: -3.5440e-01\n",
      "Epoch 12/100\n",
      " - 117s - loss: 2709.0767 - mae: 39.6770 - r2_keras: 0.1689 - val_loss: 2055.0342 - val_mae: 34.3308 - val_r2_keras: 0.1858\n",
      "Epoch 13/100\n",
      " - 119s - loss: 1948.8195 - mae: 31.0307 - r2_keras: 0.4029 - val_loss: 1828.6420 - val_mae: 31.5683 - val_r2_keras: 0.2400\n",
      "Epoch 14/100\n",
      " - 114s - loss: 1668.8773 - mae: 27.6585 - r2_keras: 0.4915 - val_loss: 1469.1502 - val_mae: 26.4314 - val_r2_keras: 0.4386\n",
      "Epoch 15/100\n",
      " - 121s - loss: 1433.6496 - mae: 24.9272 - r2_keras: 0.5619 - val_loss: 1408.2795 - val_mae: 26.2136 - val_r2_keras: 0.4839\n",
      "Epoch 16/100\n",
      " - 119s - loss: 1280.3724 - mae: 23.3154 - r2_keras: 0.6108 - val_loss: 1108.8436 - val_mae: 23.0167 - val_r2_keras: 0.5757\n",
      "Epoch 17/100\n",
      " - 116s - loss: 1132.4858 - mae: 21.7962 - r2_keras: 0.6540 - val_loss: 1310.1654 - val_mae: 25.3630 - val_r2_keras: 0.3480\n",
      "Epoch 18/100\n",
      " - 126s - loss: 1031.9538 - mae: 20.7655 - r2_keras: 0.6866 - val_loss: 1008.6693 - val_mae: 23.0780 - val_r2_keras: 0.5700\n",
      "Epoch 19/100\n",
      " - 118s - loss: 954.1136 - mae: 20.1068 - r2_keras: 0.7091 - val_loss: 985.7977 - val_mae: 23.2775 - val_r2_keras: 0.6259\n",
      "Epoch 20/100\n",
      " - 117s - loss: 887.6839 - mae: 19.4493 - r2_keras: 0.7283 - val_loss: 934.3146 - val_mae: 18.6385 - val_r2_keras: 0.6789\n",
      "Epoch 21/100\n",
      " - 113s - loss: 827.6314 - mae: 18.7159 - r2_keras: 0.7479 - val_loss: 875.0174 - val_mae: 22.0937 - val_r2_keras: 0.6120\n",
      "Epoch 22/100\n",
      " - 114s - loss: 786.4724 - mae: 18.4021 - r2_keras: 0.7608 - val_loss: 816.8765 - val_mae: 17.4954 - val_r2_keras: 0.7167\n",
      "Epoch 23/100\n",
      " - 115s - loss: 749.6415 - mae: 17.9276 - r2_keras: 0.7713 - val_loss: 870.3066 - val_mae: 18.3528 - val_r2_keras: 0.6956\n",
      "Epoch 24/100\n",
      " - 114s - loss: 721.6597 - mae: 17.7223 - r2_keras: 0.7795 - val_loss: 1051.5590 - val_mae: 17.9832 - val_r2_keras: 0.6590\n",
      "Epoch 25/100\n",
      " - 113s - loss: 693.0279 - mae: 17.3151 - r2_keras: 0.7881 - val_loss: 844.6588 - val_mae: 18.7477 - val_r2_keras: 0.6050\n",
      "Epoch 26/100\n",
      " - 112s - loss: 673.0752 - mae: 17.2504 - r2_keras: 0.7943 - val_loss: 688.9318 - val_mae: 18.3267 - val_r2_keras: 0.6616\n",
      "Epoch 27/100\n",
      " - 112s - loss: 651.6820 - mae: 16.9881 - r2_keras: 0.8014 - val_loss: 791.3144 - val_mae: 17.9594 - val_r2_keras: 0.7121\n",
      "Epoch 28/100\n",
      " - 111s - loss: 637.6749 - mae: 16.7826 - r2_keras: 0.8045 - val_loss: 856.5535 - val_mae: 20.4942 - val_r2_keras: 0.6653\n",
      "Epoch 29/100\n",
      " - 112s - loss: 606.0084 - mae: 16.3469 - r2_keras: 0.8146 - val_loss: 871.3222 - val_mae: 17.7160 - val_r2_keras: 0.6561\n",
      "Epoch 30/100\n",
      " - 113s - loss: 603.6730 - mae: 16.4172 - r2_keras: 0.8160 - val_loss: 846.1764 - val_mae: 16.7407 - val_r2_keras: 0.6681\n",
      "Epoch 31/100\n",
      " - 116s - loss: 572.8909 - mae: 15.9964 - r2_keras: 0.8238 - val_loss: 939.3687 - val_mae: 19.5228 - val_r2_keras: 0.4563\n",
      "Epoch 32/100\n",
      " - 116s - loss: 554.3637 - mae: 15.7673 - r2_keras: 0.8299 - val_loss: 629.8957 - val_mae: 15.7250 - val_r2_keras: 0.6683\n",
      "Epoch 33/100\n",
      " - 118s - loss: 530.9180 - mae: 15.4476 - r2_keras: 0.8379 - val_loss: 600.0630 - val_mae: 16.3579 - val_r2_keras: 0.7054\n",
      "Epoch 34/100\n",
      " - 123s - loss: 504.7581 - mae: 15.1630 - r2_keras: 0.8450 - val_loss: 595.0804 - val_mae: 14.7949 - val_r2_keras: 0.6569\n",
      "Epoch 35/100\n",
      " - 123s - loss: 515.7470 - mae: 15.2868 - r2_keras: 0.8424 - val_loss: 822.5448 - val_mae: 18.8324 - val_r2_keras: 0.6706\n",
      "Epoch 36/100\n",
      " - 123s - loss: 495.7643 - mae: 15.0258 - r2_keras: 0.8484 - val_loss: 930.0447 - val_mae: 19.7290 - val_r2_keras: 0.4822\n",
      "Epoch 37/100\n",
      " - 122s - loss: 483.2675 - mae: 14.7635 - r2_keras: 0.8508 - val_loss: 773.7324 - val_mae: 18.3381 - val_r2_keras: 0.6800\n",
      "Epoch 38/100\n",
      " - 124s - loss: 455.4893 - mae: 14.5798 - r2_keras: 0.8605 - val_loss: 1089.2402 - val_mae: 20.0542 - val_r2_keras: 0.6339\n",
      "Epoch 39/100\n",
      " - 127s - loss: 461.6768 - mae: 14.4986 - r2_keras: 0.8592 - val_loss: 1081.2769 - val_mae: 19.6072 - val_r2_keras: 0.3485\n",
      "Epoch 40/100\n",
      " - 126s - loss: 446.3511 - mae: 14.4232 - r2_keras: 0.8631 - val_loss: 921.4464 - val_mae: 17.3250 - val_r2_keras: 0.6439\n",
      "Epoch 41/100\n",
      " - 129s - loss: 409.8430 - mae: 13.8339 - r2_keras: 0.8740 - val_loss: 1210.1619 - val_mae: 21.2190 - val_r2_keras: 0.3216\n",
      "Epoch 42/100\n",
      " - 129s - loss: 431.2301 - mae: 14.1895 - r2_keras: 0.8675 - val_loss: 1190.6540 - val_mae: 20.2950 - val_r2_keras: 0.6001\n",
      "Epoch 43/100\n",
      " - 134s - loss: 402.0740 - mae: 13.7697 - r2_keras: 0.8750 - val_loss: 712.5691 - val_mae: 17.1234 - val_r2_keras: 0.5887\n",
      "Epoch 44/100\n",
      " - 121s - loss: 412.0087 - mae: 13.8308 - r2_keras: 0.8740 - val_loss: 1045.2219 - val_mae: 20.2357 - val_r2_keras: 0.6158\n",
      "dict_keys(['val_loss', 'val_mae', 'val_r2_keras', 'loss', 'mae', 'r2_keras'])\n"
     ]
    }
   ],
   "source": [
    "# fit the network\n",
    "history = model.fit([seq_array,seq_array], label_array, epochs=100, batch_size=200, validation_split=0.05, verbose=2,\n",
    "          callbacks = [early_stop,checkpoint]\n",
    "          )\n",
    "\n",
    "# list all data in history\n",
    "print(history.history.keys())"
   ]
  },
  {
   "cell_type": "code",
   "execution_count": 102,
   "metadata": {},
   "outputs": [],
   "source": [
    "model.load_weights(\"weights.regression1.hdf5\")\n",
    "model.compile(loss='mean_squared_error', optimizer='rmsprop',metrics=['mae',r2_keras])"
   ]
  },
  {
   "cell_type": "code",
   "execution_count": 103,
   "metadata": {},
   "outputs": [
    {
     "data": {
      "image/png": "[encoded data removed]",
      "text/plain": [
       "<Figure size 720x720 with 1 Axes>"
      ]
     },
     "metadata": {
      "needs_background": "light"
     },
     "output_type": "display_data"
    }
   ],
   "source": [
    "# summarize history for R^2\n",
    "fig_acc = plt.figure(figsize=(10, 10))\n",
    "plt.plot(history.history['r2_keras'])\n",
    "plt.plot(history.history['val_r2_keras'])\n",
    "plt.title('model r^2')\n",
    "plt.ylabel('R^2')\n",
    "plt.xlabel('epoch')\n",
    "plt.legend(['train', 'test'], loc='upper left')\n",
    "plt.show()"
   ]
  },
  {
   "cell_type": "code",
   "execution_count": 104,
   "metadata": {},
   "outputs": [
    {
     "data": {
      "image/png": "[encoded data removed]",
      "text/plain": [
       "<Figure size 720x720 with 1 Axes>"
      ]
     },
     "metadata": {
      "needs_background": "light"
     },
     "output_type": "display_data"
    }
   ],
   "source": [
    "# summarize history for MAE\n",
    "fig_acc = plt.figure(figsize=(10, 10))\n",
    "plt.plot(history.history['mae'])\n",
    "plt.plot(history.history['val_mae'])\n",
    "plt.title('model MAE')\n",
    "plt.ylabel('MAE')\n",
    "plt.xlabel('epoch')\n",
    "plt.legend(['train', 'test'], loc='upper left')\n",
    "plt.show()"
   ]
  },
  {
   "cell_type": "code",
   "execution_count": 105,
   "metadata": {},
   "outputs": [
    {
     "data": {
      "image/png": "[encoded data removed]",
      "text/plain": [
       "<Figure size 720x720 with 1 Axes>"
      ]
     },
     "metadata": {
      "needs_background": "light"
     },
     "output_type": "display_data"
    }
   ],
   "source": [
    "# summarize history for Loss\n",
    "fig_acc = plt.figure(figsize=(10, 10))\n",
    "plt.plot(history.history['loss'])\n",
    "plt.plot(history.history['val_loss'])\n",
    "plt.title('model loss')\n",
    "plt.ylabel('loss')\n",
    "plt.xlabel('epoch')\n",
    "plt.legend(['train', 'test'], loc='upper left')\n",
    "plt.show()"
   ]
  },
  {
   "cell_type": "code",
   "execution_count": 107,
   "metadata": {},
   "outputs": [
    {
     "name": "stdout",
     "output_type": "stream",
     "text": [
      "15631/15631 [==============================] - 26s 2ms/step\n",
      "\n",
      "MAE: 14.56912899017334\n",
      "\n",
      "R^2: 0.8014203906059265\n"
     ]
    }
   ],
   "source": [
    "# training metrics\n",
    "scores = model.evaluate([seq_array,seq_array], label_array, verbose=1, batch_size=200)\n",
    "print('\\nMAE: {}'.format(scores[1]))\n",
    "print('\\nR^2: {}'.format(scores[2]))"
   ]
  },
  {
   "cell_type": "code",
   "execution_count": 108,
   "metadata": {},
   "outputs": [
    {
     "name": "stdout",
     "output_type": "stream",
     "text": [
      "15631/15631 [==============================] - 25s 2ms/step\n"
     ]
    }
   ],
   "source": [
    "y_pred = model.predict([seq_array,seq_array],verbose=1, batch_size=200)\n",
    "y_true = label_array"
   ]
  },
  {
   "cell_type": "code",
   "execution_count": 109,
   "metadata": {},
   "outputs": [
    {
     "name": "stdout",
     "output_type": "stream",
     "text": [
      "seq_array_test_last\n",
      "(93, 50, 25)\n",
      "(93, 1)\n",
      "label_array_test_last\n",
      "[[ 69.]\n",
      " [ 82.]\n",
      " [ 91.]\n",
      " [ 93.]\n",
      " [ 91.]\n",
      " [ 95.]\n",
      " [111.]\n",
      " [ 96.]\n",
      " [ 97.]\n",
      " [124.]\n",
      " [ 95.]\n",
      " [ 83.]\n",
      " [ 84.]\n",
      " [ 50.]\n",
      " [ 28.]\n",
      " [ 87.]\n",
      " [ 16.]\n",
      " [ 57.]\n",
      " [113.]\n",
      " [ 20.]\n",
      " [119.]\n",
      " [ 66.]\n",
      " [ 97.]\n",
      " [ 90.]\n",
      " [115.]\n",
      " [  8.]\n",
      " [ 48.]\n",
      " [106.]\n",
      " [  7.]\n",
      " [ 11.]\n",
      " [ 19.]\n",
      " [ 21.]\n",
      " [ 50.]\n",
      " [ 28.]\n",
      " [ 18.]\n",
      " [ 10.]\n",
      " [ 59.]\n",
      " [109.]\n",
      " [114.]\n",
      " [ 47.]\n",
      " [135.]\n",
      " [ 92.]\n",
      " [ 21.]\n",
      " [ 79.]\n",
      " [114.]\n",
      " [ 29.]\n",
      " [ 26.]\n",
      " [ 97.]\n",
      " [137.]\n",
      " [ 15.]\n",
      " [103.]\n",
      " [ 37.]\n",
      " [114.]\n",
      " [100.]\n",
      " [ 21.]\n",
      " [ 54.]\n",
      " [ 72.]\n",
      " [ 28.]\n",
      " [128.]\n",
      " [ 14.]\n",
      " [ 77.]\n",
      " [  8.]\n",
      " [121.]\n",
      " [ 94.]\n",
      " [118.]\n",
      " [ 50.]\n",
      " [131.]\n",
      " [126.]\n",
      " [113.]\n",
      " [ 10.]\n",
      " [ 34.]\n",
      " [107.]\n",
      " [ 63.]\n",
      " [ 90.]\n",
      " [  8.]\n",
      " [  9.]\n",
      " [137.]\n",
      " [ 58.]\n",
      " [ 89.]\n",
      " [116.]\n",
      " [115.]\n",
      " [136.]\n",
      " [ 28.]\n",
      " [ 38.]\n",
      " [ 20.]\n",
      " [ 85.]\n",
      " [ 55.]\n",
      " [128.]\n",
      " [137.]\n",
      " [ 82.]\n",
      " [ 59.]\n",
      " [117.]\n",
      " [ 20.]]\n"
     ]
    }
   ],
   "source": [
    "# We pick the last sequence for each id in the test data\n",
    "seq_array_test_last = [test_df[test_df['id']==id][sequence_cols].values[-sequence_length:] \n",
    "                       for id in test_df['id'].unique() if len(test_df[test_df['id']==id]) >= sequence_length]\n",
    "\n",
    "seq_array_test_last = np.asarray(seq_array_test_last).astype(np.float32)\n",
    "print(\"seq_array_test_last\")\n",
    "#print(seq_array_test_last)\n",
    "print(seq_array_test_last.shape)\n",
    "\n",
    "# Similarly, we pick the labels\n",
    "#print(\"y_mask\")\n",
    "y_mask = [len(test_df[test_df['id']==id]) >= sequence_length for id in test_df['id'].unique()]\n",
    "label_array_test_last = test_df.groupby('id')['RUL'].nth(-1)[y_mask].values\n",
    "label_array_test_last = label_array_test_last.reshape(label_array_test_last.shape[0],1).astype(np.float32)\n",
    "print(label_array_test_last.shape)\n",
    "print(\"label_array_test_last\")\n",
    "print(label_array_test_last)\n"
   ]
  },
  {
   "cell_type": "code",
   "execution_count": 110,
   "metadata": {},
   "outputs": [
    {
     "name": "stdout",
     "output_type": "stream",
     "text": [
      "\n",
      "MAE: 13.144071578979492\n",
      "\n",
      "R^2: 0.760365903377533\n"
     ]
    }
   ],
   "source": [
    "# test metrics\n",
    "scores_test = model.evaluate([seq_array_test_last,seq_array_test_last], label_array_test_last, verbose=2)\n",
    "print('\\nMAE: {}'.format(scores_test[1]))\n",
    "print('\\nR^2: {}'.format(scores_test[2]))"
   ]
  },
  {
   "cell_type": "code",
   "execution_count": null,
   "metadata": {},
   "outputs": [],
   "source": []
  }
 ],
 "metadata": {
  "kernelspec": {
   "display_name": "Python 3",
   "language": "python",
   "name": "python3"
  },
  "language_info": {
   "codemirror_mode": {
    "name": "ipython",
    "version": 3
   },
   "file_extension": ".py",
   "mimetype": "text/x-python",
   "name": "python",
   "nbconvert_exporter": "python",
   "pygments_lexer": "ipython3",
   "version": "3.7.4"
  }
 },
 "nbformat": 4,
 "nbformat_minor": 2
}
